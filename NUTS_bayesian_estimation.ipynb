{
 "cells": [
  {
   "cell_type": "code",
   "execution_count": 1,
   "metadata": {},
   "outputs": [
    {
     "name": "stderr",
     "output_type": "stream",
     "text": [
      "WARNING (theano.configdefaults): g++ not available, if using conda: `conda install m2w64-toolchain`\n",
      "C:\\Users\\xjl19\\Anaconda3\\lib\\site-packages\\theano\\configdefaults.py:560: UserWarning: DeprecationWarning: there is no c++ compiler.This is deprecated and with Theano 0.11 a c++ compiler will be mandatory\n",
      "  warnings.warn(\"DeprecationWarning: there is no c++ compiler.\"\n",
      "WARNING (theano.configdefaults): g++ not detected ! Theano will be unable to execute optimized C-implementations (for both CPU and GPU) and will default to Python implementations. Performance will be severely degraded. To remove this warning, set Theano flags cxx to an empty string.\n",
      "WARNING (theano.tensor.blas): Using NumPy C-API based implementation for BLAS functions.\n",
      "C:\\Users\\xjl19\\Anaconda3\\lib\\site-packages\\weibull\\__init__.py:9: UserWarning: The \"weibull\" module is being superceded by the \"reliability\" module and will no longer be maintained. Please refactor your code for this alternative model and thank you for using weibull!\n",
      "  warnings.warn('The \"weibull\" module is being superceded by the \"reliability\" module and will no longer be maintained. '\n"
     ]
    }
   ],
   "source": [
    "import numpy as np\n",
    "import pandas as pd\n",
    "import matplotlib.pyplot as plt\n",
    "from mpl_toolkits.mplot3d import Axes3D\n",
    "import pymc3 as pm\n",
    "import theano.tensor as tt\n",
    "import weibull\n",
    "from scipy.stats import exponweib\n",
    "import time\n",
    "\n",
    "\n",
    "import os\n",
    "import shutil\n",
    "import ctypes\n",
    "import time\n"
   ]
  },
  {
   "cell_type": "code",
   "execution_count": 39,
   "metadata": {},
   "outputs": [
    {
     "data": {
      "text/plain": [
       "array([ 62.68556388,  29.08121036,   1.14988057,  39.77753016,\n",
       "         6.22721891,  56.43663944,  14.34319967,   5.89392677,\n",
       "       111.15861708,  38.79326972])"
      ]
     },
     "execution_count": 39,
     "metadata": {},
     "output_type": "execute_result"
    }
   ],
   "source": [
    "data = exponweib.rvs(a=1, c=0.7, loc=0, scale=30, size=20)\n",
    "#  型号2——1\n",
    "# data = [776.09, 114.93, 145.95, 1058.38, 513.90, 482.00,\n",
    "#         363.90, 336.04, 337.64, 251.38, 457.58, 596.92,\n",
    "#          1.75, 104.37, 143.31, 554.34, 639.31, 346.31,\n",
    "#          219.80, 448.78, 793.57, 332.55, 1007.25, 134.15,\n",
    "#          85.90, 389.28, 65.43, 249.78, 59.39, 592.12,\n",
    "#          964.43, 752.49, 475.92, 212.65, 759.03, 289.36,\n",
    "#          127.02, 41.73, 52.07, 94.24, 272.90, 741.86,\n",
    "#          657.01, 18.64, 113.62, 105.28, 359.97, 218.97,\n",
    "#          335.24, 250.72, 45.16, 314.41, 196.28, 16.10,\n",
    "#          13.99, 242.81, 102.14, 99.69, 60.81, 870.35,\n",
    "#          524.40, 157.39, 20.90]\n",
    "\n",
    "# 型号1-1\n",
    "# data = [776.09, 143.31, 513.90, 157.39, 1007.25, 346.31, 272.90, 475.92, 9.36]\n",
    "\n",
    "# # 型号2-2\n",
    "# data = [176.0, 248.00, 10.50, 472.00, 45.00, 39.00, 209.33, 261.25, 510.00, 120.00, 224.00, 348.00, 267.50, 32.00, 50.00, 138.50, 398.00, 353.00, 478.00, 137.06,]\n",
    "\n",
    "# data = np.array(data)\n",
    "# data = np.random.exponential(357,10)\n",
    "data[:10]"
   ]
  },
  {
   "cell_type": "code",
   "execution_count": 17,
   "metadata": {},
   "outputs": [],
   "source": [
    "class Translate(pm.distributions.transforms.Transform):\n",
    "  def __init__(self, v):\n",
    "    self.v_ = v\n",
    "\n",
    "  def forward(self, x):\n",
    "    return x + self.v_\n",
    "\n",
    "  def forward_val(self, x):\n",
    "    return x + self.v_\n",
    "\n",
    "  def backward(self, z):\n",
    "    return x - self.v_\n",
    "\n",
    "  def jacobian_det(self, x):\n",
    "    return 0. * x  # log(1) = 0\n",
    "\n",
    "  def apply(self, rv):\n",
    "    return pm.distributions.transforms.TransformedDistribution.dist(rv.distribution, self)"
   ]
  },
  {
   "cell_type": "code",
   "execution_count": 8,
   "metadata": {
    "scrolled": true
   },
   "outputs": [],
   "source": [
    "class Nuts_weib():\n",
    "    def __init__(self,data):\n",
    "        self.data = data\n",
    "        \n",
    "    def classic_estimate(self):\n",
    "        self.analysis = weibull.Analysis(self.data)\n",
    "        self.analysis.fit('mle')\n",
    "#         self.analysis.fit()\n",
    " \n",
    "    def model_flat(self,a,b):\n",
    "        with pm.Model() as model_gibbs:\n",
    "            a = pm.Uniform('a',0,1,testval=a)\n",
    "            b = pm.Uniform('b',20,80,testval=b)\n",
    "            like = pm.Weibull('observation', a, b, observed=self.data)\n",
    "            prior = pm.Potential('prior', -tt.log(a*b))\n",
    "            \n",
    "            # inference\n",
    "            start = pm.find_MAP()\n",
    "            self.trace = pm.sample(1250,tune=1000,start=start)\n",
    "    \n",
    "    def model_gamma(self,a,b,num1,num2):            \n",
    "        with pm.Model() as model_1:\n",
    "#             l = pm.Gamma('l_pr', alpha=2,beta=1)\n",
    "            a = pm.Gamma('a',alpha=3 , beta=3,testval=a)            \n",
    "            b = pm.Gamma('b', alpha=90 , beta=3,testval=b)   \n",
    "#             shift = Translate(l)\n",
    "#             weib = shift.apply(pm.Weibull('base', alpha=a, beta=b,observed=self.data))\n",
    "            weib = pm.Weibull('base', alpha=a, beta=b,observed=self.data)   \n",
    "#             start = pm.find_MAP()\n",
    "            self.trace = pm.sample(1250,tune=1000)\n",
    "        \n",
    "            \n",
    "\n",
    "# nuts_weib = Nuts_weib(data)\n",
    "\n",
    "# # # # nuts_weib.classic_estimate()\n",
    "# # # # nuts_weib.analysis.fit('mle')\n",
    "# # # # nuts_weib.analysis.stats\n",
    "\n",
    "\n",
    "# nuts_weib.model_gamma()\n",
    "# # a = nuts_weib.trace_gamma"
   ]
  },
  {
   "cell_type": "code",
   "execution_count": null,
   "metadata": {},
   "outputs": [
    {
     "name": "stderr",
     "output_type": "stream",
     "text": [
      "C:\\Users\\xjl19\\Anaconda3\\lib\\site-packages\\pymc3\\tuning\\starting.py:61: UserWarning: find_MAP should not be used to initialize the NUTS sampler, simply call pymc3.sample() and it will automatically initialize NUTS in a better way.\n",
      "  warnings.warn('find_MAP should not be used to initialize the NUTS sampler, simply call pymc3.sample() and it will automatically initialize NUTS in a better way.')\n",
      "logp = -102.33, ||grad|| = 2.169: 100%|█████████████████████████████████████████████████| 9/9 [00:00<00:00, 186.41it/s]\n",
      "Auto-assigning NUTS sampler...\n",
      "INFO:pymc3:Auto-assigning NUTS sampler...\n",
      "Initializing NUTS using jitter+adapt_diag...\n",
      "INFO:pymc3:Initializing NUTS using jitter+adapt_diag...\n",
      "Multiprocess sampling (4 chains in 4 jobs)\n",
      "INFO:pymc3:Multiprocess sampling (4 chains in 4 jobs)\n",
      "NUTS: [b, a]\n",
      "INFO:pymc3:NUTS: [b, a]\n"
     ]
    }
   ],
   "source": [
    "np.random.seed(seed=2500 + 2)\n",
    "data = exponweib.rvs(a=1, c=0.7, loc=0, scale=30, size=20)\n",
    "m = Nuts_weib(data)\n",
    "m.model_flat(0.7,30)"
   ]
  },
  {
   "cell_type": "code",
   "execution_count": 5,
   "metadata": {},
   "outputs": [],
   "source": [
    "from time import time\n",
    "\n",
    "alpha = 0.7\n",
    "alpha = 2\n",
    "beta = 30\n",
    "size = 200\n",
    "\n",
    "start_time = time()\n",
    "\n",
    "enum_gamma=0\n",
    "enum_flat=0\n",
    "\n",
    "li = np.load('s200/gamma_200.npy').tolist()\n",
    "\n",
    "j_li = []\n",
    "means_li = []\n",
    "i = 0\n",
    "j = 1030\n",
    "while True:\n",
    "    end_time = time()\n",
    "    print('总时长%ds'%(end_time-start_time))\n",
    "    print('flat错误，%d次'%enum_flat)\n",
    "\n",
    "    print('第' + str(i+1)+'次')\n",
    "    try:\n",
    "        np.random.seed(seed=2500 + li[i])\n",
    "    except:\n",
    "        print('使用备用数据%d'%j)\n",
    "        np.random.seed(seed=2500 + j)\n",
    "        j += 1\n",
    "    data = exponweib.rvs(a=1, c=alpha, loc=0, scale=beta, size=size)\n",
    "    nuts_weib = Nuts_weib(data)\n",
    "    try:\n",
    "        nuts_weib.model_flat()\n",
    "    except:\n",
    "        i += 1\n",
    "        enum_gamma += 1\n",
    "        continue\n",
    "    print('saving...')\n",
    "    li.append(i)\n",
    "    np.save('s_flat_' + str(size) + '/flat_' +str(size)  + '.npy',li)\n",
    "    pm.trace_to_dataframe(nuts_weib.trace_flat).to_csv('s_flat_' + str(size) + '/flat_' +str(size) + '_' + str(i) + '.csv')\n",
    "    \n",
    "    i+= 1\n",
    "    if len(li) == 1000:\n",
    "        break"
   ]
  },
  {
   "cell_type": "code",
   "execution_count": 94,
   "metadata": {},
   "outputs": [],
   "source": [
    "def do(alpha,beta,size,model):\n",
    "    \n",
    "    start_time = time.time()\n",
    "    enum=0\n",
    "    li = np.load('seed.npy').tolist()\n",
    "    for i,seed in enumerate(li):\n",
    "        print(f'第{str(i+1)}次--------------------------------------------------')\n",
    "        print(f'随机核：{str(li[i])}')\n",
    "        \n",
    "        np.random.seed(seed=2500 + li[i])\n",
    "        data = exponweib.rvs(a=1, c=alpha, loc=0, scale=beta, size=size)\n",
    "        nuts_weib = Nuts_weib(data)\n",
    "        \n",
    "        try:\n",
    "            if model == 1:\n",
    "                nuts_weib.model_flat(alpha,beta)\n",
    "                string = 'flat'\n",
    "            elif model == 2:\n",
    "                if alpha == 0.7:\n",
    "                    num1 = 3\n",
    "                elif alpha == 1:\n",
    "                    num1 = 4\n",
    "                elif alpha == 2:\n",
    "                    num1 = 7\n",
    "                    \n",
    "                if beta == 30:\n",
    "                    num1 = 90\n",
    "                elif beta == 200:\n",
    "                    num1 = 600\n",
    "                nuts_weib.model_gamma(alpha,beta,num1,num2)\n",
    "                string = 'gamma'\n",
    "        except:\n",
    "            enum += 1\n",
    "            print('错误')\n",
    "            continue\n",
    "        \n",
    "        try:\n",
    "            pm.trace_to_dataframe(nuts_weib.trace).to_csv(str(alpha)+ '_' + str(beta)+ '_s_' + string + '_' + str(size) + '/' +string + '_' +str(size) + '_' + str(i) + '.csv')\n",
    "        except:\n",
    "            os.mkdir(str(alpha)+ '_' + str(beta)+ '_s_' + string + '_' + str(size))\n",
    "            pm.trace_to_dataframe(nuts_weib.trace).to_csv(str(alpha)+ '_' + str(beta)+ '_s_' + string + '_' + str(size) + '/' +string + '_' +str(size) + '_' + str(i) + '.csv')\n",
    "        \n",
    "        end_time = time.time()\n",
    "        print(f'总时长{end_time - start_time}s')\n",
    "        print(f'错误次数：{str(enum)}')\n",
    "       "
   ]
  },
  {
   "cell_type": "code",
   "execution_count": null,
   "metadata": {},
   "outputs": [],
   "source": []
  },
  {
   "cell_type": "code",
   "execution_count": 7,
   "metadata": {},
   "outputs": [
    {
     "name": "stderr",
     "output_type": "stream",
     "text": [
      "100%|██████████████████████████████████████████████████████████████████████████████| 1000/1000 [03:24<00:00,  4.85it/s]\n"
     ]
    },
    {
     "name": "stdout",
     "output_type": "stream",
     "text": [
      "saving...\n",
      "            a          b\n",
      "0    0.653745  28.249664\n",
      "1    0.723958  32.317833\n",
      "2    0.617179  26.801470\n",
      "3    0.603130  24.050801\n",
      "4    0.686223  31.386664\n",
      "5    0.701773  34.247883\n",
      "6    0.774921  33.768590\n",
      "7    0.662945  27.317654\n",
      "8    0.687348  30.131455\n",
      "9    0.719143  29.862910\n",
      "10   0.667411  29.803011\n",
      "11   0.703860  24.992487\n",
      "12   0.757847  33.510903\n",
      "13   0.717535  31.083059\n",
      "14   0.678413  30.595910\n",
      "15   0.692305  26.646236\n",
      "16   0.702394  28.995629\n",
      "17   0.674509  22.489624\n",
      "18   0.644077  27.633886\n",
      "19   0.712654  28.137433\n",
      "20   0.652330  26.447915\n",
      "21   0.671994  31.802855\n",
      "22   0.692537  28.063982\n",
      "23   0.702212  29.858590\n",
      "24   0.685744  30.923893\n",
      "25   0.687260  22.512876\n",
      "26   0.686364  26.814668\n",
      "27   0.657058  36.116331\n",
      "28   0.703980  33.909853\n",
      "29   0.693376  25.742144\n",
      "..        ...        ...\n",
      "970  0.721038  34.449371\n",
      "971  0.713729  29.321221\n",
      "972  0.713740  29.156712\n",
      "973  0.683122  29.131888\n",
      "974  0.634635  34.299642\n",
      "975  0.767885  27.810970\n",
      "976  0.815374  29.729721\n",
      "977  0.743716  36.509958\n",
      "978  0.703400  31.462203\n",
      "979  0.658218  27.255407\n",
      "980  0.709484  31.740258\n",
      "981  0.711070  34.412074\n",
      "982  0.678004  28.263994\n",
      "983  0.701865  22.406715\n",
      "984  0.742400  31.680604\n",
      "985  0.669970  24.378941\n",
      "986  0.685559  31.874496\n",
      "987  0.694072  30.011345\n",
      "988  0.736180  28.816521\n",
      "989  0.691952  29.644796\n",
      "990  0.718802  27.905643\n",
      "991  0.695911  28.305095\n",
      "992  0.709542  31.837195\n",
      "993  0.699972  26.038193\n",
      "994  0.692108  32.276139\n",
      "995  0.754485  33.647644\n",
      "996  0.705795  25.054521\n",
      "997  0.692133  29.937277\n",
      "998  0.695472  30.602817\n",
      "999  0.721277  29.838772\n",
      "\n",
      "[1000 rows x 2 columns]\n"
     ]
    }
   ],
   "source": [
    "from time import time\n",
    "from tqdm import tqdm\n",
    "\n",
    "alpha = 0.7\n",
    "beta = 30\n",
    "size = 200\n",
    "\n",
    "start_time = time()\n",
    "\n",
    "enum_gamma=0\n",
    "enum_flat=0\n",
    "\n",
    "li = np.load('s200/gamma_200.npy').tolist()\n",
    "estimates=[]\n",
    "j_li = []\n",
    "means_li = []\n",
    "i = 0\n",
    "j = 1030\n",
    "for i in tqdm(li):\n",
    "    end_time = time()\n",
    "    np.random.seed(seed=2500 + i)\n",
    "\n",
    "    data = exponweib.rvs(a=1, c=alpha, loc=0, scale=beta, size=size)\n",
    "    analysis = weibull.Analysis(data)\n",
    "    analysis.fit('mle')\n",
    "    estimates.append([analysis.stats[3],analysis.stats[6]])\n",
    "    \n",
    "print('saving...')\n",
    "df = pd.DataFrame(estimates,columns = ['a','b'])\n",
    "print(df)"
   ]
  },
  {
   "cell_type": "code",
   "execution_count": 10,
   "metadata": {
    "scrolled": true
   },
   "outputs": [
    {
     "data": {
      "image/png": "[encoded data removed]",
      "text/plain": [
       "<Figure size 432x288 with 2 Axes>"
      ]
     },
     "metadata": {},
     "output_type": "display_data"
    }
   ],
   "source": [
    "import matplotlib.pyplot as plt\n",
    "import numpy as np\n",
    "import scipy.stats as st\n",
    "plt.style.use('seaborn-darkgrid')\n",
    "plt.subplot(1,2,1)\n",
    "x = np.linspace(0, 500, 200)\n",
    "alphas = [90,600]\n",
    "betas = [3,3]\n",
    "for a, b in zip(alphas, betas):\n",
    "    pdf = st.gamma.pdf(x, a, scale=1.0/b)\n",
    "    plt.plot(x, pdf, label=r'$\\alpha$ = {}, $\\beta$ = {}'.format(a, b))\n",
    "plt.xlabel('x', fontsize=12)\n",
    "plt.ylabel('f(x)', fontsize=12)\n",
    "plt.legend(loc=1)\n",
    "plt.subplot(1,2,2)\n",
    "x = np.linspace(0, 5, 50)\n",
    "alphas = [3,4,7]\n",
    "betas = [3,3,3]\n",
    "for a, b in zip(alphas, betas):\n",
    "    pdf = st.gamma.pdf(x, a, scale=1.0/b)\n",
    "    plt.plot(x, pdf, label=r'$\\alpha$ = {}, $\\beta$ = {}'.format(a, b))\n",
    "plt.xlabel('x', fontsize=12)\n",
    "plt.ylabel('f(x)', fontsize=12)\n",
    "plt.legend(loc=1)\n",
    "plt.show()"
   ]
  },
  {
   "cell_type": "code",
   "execution_count": 86,
   "metadata": {},
   "outputs": [],
   "source": [
    "path = '0.7_30_s_gamma_200/'\n",
    "data_list = os.listdir(path[0:-1])\n",
    "a_list=[]\n",
    "b_list=[]\n",
    "for data_name in data_list:\n",
    "    if data_name.split('.')[-1] != 'csv':\n",
    "        continue    \n",
    "    df = pd.read_csv(path + data_name,index_col=0)\n",
    "    a_list.append(df.describe().loc['mean','a'])\n",
    "    b_list.append(df.describe().loc['mean','b'])\n",
    "a = np.array(a_list)\n",
    "b = np.array(b_list)\n",
    "mse_a = (a - 0.7)**2\n",
    "mse_a = mse_a.sum()\n",
    "mse_a = mse_a / len(a_list)\n",
    "\n",
    "mse_b = (b - 30)**2\n",
    "mse_b = mse_b.sum()\n",
    "mse_b = mse_b / len(b_list)"
   ]
  },
  {
   "cell_type": "code",
   "execution_count": 87,
   "metadata": {},
   "outputs": [
    {
     "data": {
      "text/plain": [
       "2.480195371198242"
      ]
     },
     "execution_count": 87,
     "metadata": {},
     "output_type": "execute_result"
    }
   ],
   "source": [
    "mse_b"
   ]
  },
  {
   "cell_type": "code",
   "execution_count": null,
   "metadata": {},
   "outputs": [],
   "source": [
    "x = [1,2,3,4,5,6,7,8]\n",
    "y = [0.5422578843128272，0.8044843431918814, 2.533158717048611, 2.272381636825643,\n",
    "     2.3506809763772925, 2.7346770411576626, 2.552962111265352, 2.480195371198242]"
   ]
  },
  {
   "cell_type": "code",
   "execution_count": 90,
   "metadata": {},
   "outputs": [
    {
     "data": {
      "text/plain": [
       "<BarContainer object of 8 artists>"
      ]
     },
     "execution_count": 90,
     "metadata": {},
     "output_type": "execute_result"
    },
    {
     "data": {
      "image/png": "[encoded data removed]",
      "text/plain": [
       "<Figure size 432x288 with 2 Axes>"
      ]
     },
     "metadata": {
      "needs_background": "light"
     },
     "output_type": "display_data"
    }
   ],
   "source": [
    "plt.subplot(1,2,1)\n",
    "x = [1,2,3,4,5,6,7,8]\n",
    "y = [0.5422578843128272, 0.8044843431918814, 2.533158717048611, 2.272381636825643,\n",
    "     2.3506809763772925, 2.7346770411576626, 2.552962111265352, 2.480195371198242]\n",
    "plt.bar(x,y)\n",
    "plt.subplot(1,2,2)\n",
    "x = [1,2,3,4,5,6,7,8]\n",
    "y = [0.000804348858255318, 0.001596221406711237, 0.0016921793703907223, 0.0012779317901127265,\n",
    " 0.0014214040837622172, 0.001514190797310563, 0.0014849866248041977, 0.0014111667730723348]\n",
    "plt.bar(x,y)"
   ]
  },
  {
   "cell_type": "code",
   "execution_count": 92,
   "metadata": {},
   "outputs": [
    {
     "data": {
      "text/plain": [
       "<matplotlib.axes._subplots.AxesSubplot at 0x2509fe46c50>"
      ]
     },
     "execution_count": 92,
     "metadata": {},
     "output_type": "execute_result"
    },
    {
     "data": {
      "image/png": "[encoded data removed]",
      "text/plain": [
       "<Figure size 432x288 with 1 Axes>"
      ]
     },
     "metadata": {
      "needs_background": "light"
     },
     "output_type": "display_data"
    }
   ],
   "source": [
    "df['a'].plot()"
   ]
  },
  {
   "cell_type": "code",
   "execution_count": null,
   "metadata": {},
   "outputs": [],
   "source": []
  }
 ],
 "metadata": {
  "kernelspec": {
   "display_name": "Python 3",
   "language": "python",
   "name": "python3"
  },
  "language_info": {
   "codemirror_mode": {
    "name": "ipython",
    "version": 3
   },
   "file_extension": ".py",
   "mimetype": "text/x-python",
   "name": "python",
   "nbconvert_exporter": "python",
   "pygments_lexer": "ipython3",
   "version": "3.7.0"
  }
 },
 "nbformat": 4,
 "nbformat_minor": 2
}
